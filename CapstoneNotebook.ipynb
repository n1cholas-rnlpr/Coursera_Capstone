{
 "cells": [
  {
   "cell_type": "markdown",
   "metadata": {},
   "source": [
    "# Welcome to Nicholas IBM Data Science Capstone Project Notebook! \n",
    "***\n",
    "### The IBM Data Science Professional Certification is result of a 9 courses program, implemented on Coursera and developed by IBM, that aim to teach and certify new Data Science professionals with excellence, guiding them into the world of Data Science with Python.\n",
    "\n",
    " - During my trajectory on the program I have learned many great skills, that will undoubtedly prove to be very useful in my professional path. I will employ those skills here, with dedication, as the next task on my path to be recognized as a promising and competent Data Science Professional.\n",
    "***\n",
    "#### This notebook will be the place where the Capstone Project of the ninth course is developed by me, and will be pushed to my Github repository for future reference."
   ]
  },
  {
   "cell_type": "code",
   "execution_count": 1,
   "metadata": {},
   "outputs": [],
   "source": [
    "import pandas as pd\n",
    "import numpy as np"
   ]
  },
  {
   "cell_type": "code",
   "execution_count": 2,
   "metadata": {},
   "outputs": [
    {
     "name": "stdout",
     "output_type": "stream",
     "text": [
      "Hello Capstone Project Course!\n"
     ]
    }
   ],
   "source": [
    "print(\"Hello Capstone Project Course!\")"
   ]
  }
 ],
 "metadata": {
  "kernelspec": {
   "display_name": "Python 3",
   "language": "python",
   "name": "python3"
  },
  "language_info": {
   "codemirror_mode": {
    "name": "ipython",
    "version": 3
   },
   "file_extension": ".py",
   "mimetype": "text/x-python",
   "name": "python",
   "nbconvert_exporter": "python",
   "pygments_lexer": "ipython3",
   "version": "3.7.6"
  }
 },
 "nbformat": 4,
 "nbformat_minor": 4
}
