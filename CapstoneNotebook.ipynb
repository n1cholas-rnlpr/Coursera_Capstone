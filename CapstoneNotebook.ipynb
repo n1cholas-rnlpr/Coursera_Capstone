{
 "cells": [
  {
   "cell_type": "markdown",
   "metadata": {},
   "source": [
    "# Welcome to Nicholas IBM Data Science Capstone Project Notebook! \n",
    "***\n",
    "### The IBM Data Science Professional Certification is result of a 9 courses program, implemented on Coursera and developed by IBM, that aim to teach and certify new Data Science professionals with excellence, guiding them into the world of Data Science with Python.\n",
    "\n",
    " - During my trajectory on the program I have learned many great skills, that will undoubtedly prove to be very useful in my professional path. I will employ those skills here, with dedication, as the next task on my path to be recognized as a promising and competent Data Science Professional.\n",
    "***\n",
    "#### This notebook will be the place where the Capstone Project of the ninth course is developed by me, and will be pushed to my Github repository for future reference."
   ]
  },
  {
   "cell_type": "code",
   "execution_count": 1,
   "metadata": {},
   "outputs": [],
   "source": [
    "import pandas as pd\n",
    "import numpy as np"
   ]
  },
  {
   "cell_type": "code",
   "execution_count": 2,
   "metadata": {},
   "outputs": [
    {
     "name": "stdout",
     "output_type": "stream",
     "text": [
      "Hello Capstone Project Course!\n"
     ]
    }
   ],
   "source": [
    "print(\"Hello Capstone Project Course!\")"
   ]
  },
  {
   "cell_type": "markdown",
   "metadata": {},
   "source": [
    "# Week 1\n",
    "***\n",
    "\n",
    "## Describing the Problem:\n",
    "In this project two problems were addressed. The initial one opened the possibility to provide another solution based on the same process. Assuming there is a client interested in learning which would be the top five locations in the city to open a food truck business. Investors often depend on intel in order to determine optimal business implementation decisions, such as the tendency a given area have to generate them profit based on a business model. Food trucks have become popular in Brazil over the last few years, having already passed the peak point of the trend. The latter is a crucial point regarding the future of a business model, and those who depend solely on trend tend to fade away after the trend does, so it is imperative not only to investigate whether the food truck business model is still present in the region, but also, if so, in which specific locations; is there a concentration, or a optimum spot? Those questions are the ones that make up this study’s problem. There is already an informal impression that the business model is still present and attractive to many customers after the trend has passed, although the model appears to have changed in some ways, with the observation that the food trucks tend to be more present in areas that already have the appeal for their services, such as events, parties, entertainment venues and so on, often counting with more than a few options, of varied cousines; which could be seen as a collective approach to maximizing profitability and efficiency when it comes to the use of time. Therefore, the final objective is to produce such intel for the client, specifying locations in which the food truck business model tends to succeed the most in the city of Campinas, São Paulo, Brazil. The other problem addressed in this study, is the development of analytical material regarding the neighborhoods in the city and the categories of venues associated with each one, which in turn allows the clustering of neighborhoods based upon their similarities; such material is valuable and can be used for future client’s request or to indirectly help solve other problems.\n",
    "\n",
    "## Describing the Data and Approach:\n",
    "Regarding the data that is to be used in this study, the starting point to be described is the neighborhood data about Campinas. A table containing the Neighborhoods names was collected from a previous study, and with some pointers form a colleague, from my universities extension program, that studies geography, a data processing step was able to take place in the QGIS software, that based on the neighborhood names produced their respective latitudes and longitudes coordinates. With the neighborhood dataframe assembled, the next step of the study is to query the Foursquare API in order to retrieve the venues close to each neighborhood, in a radius of 500m, and a limit of 100 venues returned per neighborhood. The query from Foursquare API will then be used to create a dataframe containing each neighborhoods specific venue categories, as well as their density. The data specified will be employed in the development of a K-Means clustering algorithm, doing so based on the venues categories collected and present in each neighborhood. The intent of the study is to identify the cluster to which food trucks belong to, and then locate the top five locations that are both compatible with that business model and also minimally populated by competitors."
   ]
  },
  {
   "cell_type": "code",
   "execution_count": null,
   "metadata": {},
   "outputs": [],
   "source": []
  }
 ],
 "metadata": {
  "kernelspec": {
   "display_name": "Python 3",
   "language": "python",
   "name": "python3"
  },
  "language_info": {
   "codemirror_mode": {
    "name": "ipython",
    "version": 3
   },
   "file_extension": ".py",
   "mimetype": "text/x-python",
   "name": "python",
   "nbconvert_exporter": "python",
   "pygments_lexer": "ipython3",
   "version": "3.7.6"
  }
 },
 "nbformat": 4,
 "nbformat_minor": 4
}
